{
 "cells": [
  {
   "cell_type": "code",
   "execution_count": null,
   "metadata": {},
   "outputs": [],
   "source": [
    "from IPython.core.display import display, HTML, clear_output\n",
    "display(HTML(\"<style>.container { width:100% !important; }</style>\"))"
   ]
  },
  {
   "cell_type": "markdown",
   "metadata": {},
   "source": [
    "<br />\n",
    "<img src=\"nethone.png\" />\n",
    "<br />\n",
    "\n",
    "Created by: damian.mironiuk@nethone.com"
   ]
  },
  {
   "cell_type": "markdown",
   "metadata": {},
   "source": [
    "# JUPYTER NOTEBOOK\n",
    "```\n",
    "$ jupyter notebook\n",
    "```\n",
    "\n",
    "##### Basic commands\n",
    "* `Esc` - enter the \"command mode\" (notice: the margin turns blue)\n",
    "* `Enter` - enter the \"edition mode\" (notice: the margin turns green)\n",
    "* `Ctrl-enter` - execute current code cell\n",
    "* `Shift-Enter` - execute current cell + (go to / create next) code cell \n",
    "* `dd` - delete cell (in command mode)\n",
    "* `Z` - undo delete cell (in command mode)\n",
    "* `Tab` - uzupełnienie kodu\n",
    "* `a` - new code cell **a**bove\n",
    "* `b` - new code cell **b**elow\n",
    "* `Shift-Tab` - show signature + first line of the docstring\n",
    "* `Shift-Tab-Tab` - show full docstring\n",
    "* `<function>?` - docstring of the `<function>`\n",
    "* `<function>??` - full code (!) of the `<function>`\n",
    "\n",
    "For more, check out: `Help -> Keyboard shortcuts`"
   ]
  },
  {
   "cell_type": "code",
   "execution_count": null,
   "metadata": {
    "scrolled": true
   },
   "outputs": [],
   "source": [
    "import math\n",
    "\n",
    "\n",
    "math.sqrt(5)"
   ]
  },
  {
   "cell_type": "markdown",
   "metadata": {},
   "source": [
    "# PANDAS\n",
    "<br />\n",
    "<img src=\"https://images-na.ssl-images-amazon.com/images/I/81S-3ziyseL.jpg\" style=\"height: 400px\" />\n",
    "<br />"
   ]
  },
  {
   "cell_type": "code",
   "execution_count": null,
   "metadata": {
    "collapsed": true
   },
   "outputs": [],
   "source": [
    "import pandas as pd"
   ]
  },
  {
   "cell_type": "code",
   "execution_count": null,
   "metadata": {},
   "outputs": [],
   "source": [
    "pd.DataFrame({\n",
    "    'a': [1,2,3],\n",
    "    'b': [4,5,6]   \n",
    "})"
   ]
  },
  {
   "cell_type": "markdown",
   "metadata": {},
   "source": [
    "### But first, a few words about `class`-es"
   ]
  },
  {
   "cell_type": "code",
   "execution_count": null,
   "metadata": {
    "collapsed": true
   },
   "outputs": [],
   "source": [
    "# This is the smallest definition of a class possible\n",
    "class Example:\n",
    "    pass\n",
    "\n",
    "\n",
    "e = Example()"
   ]
  },
  {
   "cell_type": "code",
   "execution_count": null,
   "metadata": {
    "collapsed": true
   },
   "outputs": [],
   "source": [
    "# It's not very useful (we can add attributes and print them)\n",
    "e.name = 'first example'\n",
    "e.value = 1\n",
    "print('name: \"{}\"'.format(e.name))\n",
    "print('value: {}'.format(e.value))\n",
    "# ... but it works"
   ]
  },
  {
   "cell_type": "code",
   "execution_count": null,
   "metadata": {
    "collapsed": true
   },
   "outputs": [],
   "source": [
    "# Let's use a cleaner way of setting the attributes\n",
    "# at initialization, i.e. let's add the __init__ method\n",
    "class Example:\n",
    "    def __init__(self, name, value):\n",
    "        self.name = name\n",
    "        self.value = value\n",
    "        \n",
    "        \n",
    "e = Example('second example', 2)\n",
    "print('name: \"{}\", value: {}'.format(e.name, e.value))"
   ]
  },
  {
   "cell_type": "code",
   "execution_count": null,
   "metadata": {
    "collapsed": true
   },
   "outputs": [],
   "source": [
    "# OK, we're making some progress; let's add a method\n",
    "# for printing out the attributes\n",
    "class Example:\n",
    "    def __init__(self, name, value):\n",
    "        self.name = name\n",
    "        self.value = value\n",
    "        \n",
    "    def print_out(self):\n",
    "        print('name: \"{}\", value: {}'.format(self.name, self.value))\n",
    "        \n",
    "        \n",
    "e = Example('third example', 3)\n",
    "e.print_out()"
   ]
  },
  {
   "cell_type": "code",
   "execution_count": null,
   "metadata": {},
   "outputs": [],
   "source": [
    "# And the last example, with inheritance\n",
    "class Example(pd.DataFrame):\n",
    "    def say_hi(self):\n",
    "        print(\"Hi, I'm an instance of a class inheriting from pd.DataFrame\")\n",
    "        \n",
    "\n",
    "e = Example({\n",
    "    'a': [1,2,3],\n",
    "    'b': [4,5,6],\n",
    "})\n",
    "e.say_hi()\n",
    "e"
   ]
  },
  {
   "cell_type": "markdown",
   "metadata": {},
   "source": [
    "## `pd.DataFrame`\n",
    "<img src=\"dataframe.jpg\" /><br />\n",
    "\n",
    "Source: https://stackoverflow.com/questions/25773245/ambiguity-in-pandas-dataframe-numpy-array-axis-definition"
   ]
  },
  {
   "cell_type": "code",
   "execution_count": null,
   "metadata": {
    "collapsed": true
   },
   "outputs": [],
   "source": [
    "pd.DataFrame({\n",
    "    'letter': list('abcd'),\n",
    "    'number': [1, 2, 3, 4]\n",
    "})"
   ]
  },
  {
   "cell_type": "code",
   "execution_count": null,
   "metadata": {
    "collapsed": true
   },
   "outputs": [],
   "source": [
    "df = pd.DataFrame(\n",
    "    [\n",
    "        ['PL',  0.1,    11,   'user@gmail.com'],\n",
    "        ['PL',  '0.2',  None, 'user@gmail.pl'],\n",
    "        ['PL',  None,   33,   ''],\n",
    "        ['RU',  1.5,    44,   'user@gmail.ru'],\n",
    "    ],\n",
    "    columns = ['country', 'mixed', 'age', 'email']\n",
    ")\n",
    "df"
   ]
  },
  {
   "cell_type": "code",
   "execution_count": null,
   "metadata": {
    "collapsed": true
   },
   "outputs": [],
   "source": [
    "from datetime import date\n",
    "\n",
    "\n",
    "df['date'] = date.today()\n",
    "df"
   ]
  },
  {
   "cell_type": "code",
   "execution_count": null,
   "metadata": {
    "collapsed": true
   },
   "outputs": [],
   "source": [
    "df['colors'] = ['red', 'green', 'blue', 'white']\n",
    "df"
   ]
  },
  {
   "cell_type": "code",
   "execution_count": null,
   "metadata": {
    "collapsed": true
   },
   "outputs": [],
   "source": [
    "# Column type\n",
    "# NOTE: None vs NaN\n",
    "print(df.dtypes)\n",
    "df"
   ]
  },
  {
   "cell_type": "code",
   "execution_count": null,
   "metadata": {
    "collapsed": true
   },
   "outputs": [],
   "source": [
    "import numpy as np\n",
    "\n",
    "\n",
    "df.select_dtypes(include=[np.number])"
   ]
  },
  {
   "cell_type": "code",
   "execution_count": null,
   "metadata": {
    "collapsed": true
   },
   "outputs": [],
   "source": [
    "df.select_dtypes(exclude=[np.number])"
   ]
  },
  {
   "cell_type": "code",
   "execution_count": null,
   "metadata": {
    "collapsed": true
   },
   "outputs": [],
   "source": [
    "def print_type(obj):\n",
    "    print('Type:', type(obj))"
   ]
  },
  {
   "cell_type": "code",
   "execution_count": null,
   "metadata": {
    "collapsed": true
   },
   "outputs": [],
   "source": [
    "# Column selection\n",
    "# __getitem__ with ONE column name --> pd.Series\n",
    "letters = df['country']\n",
    "print_type(letters)\n",
    "letters"
   ]
  },
  {
   "cell_type": "code",
   "execution_count": null,
   "metadata": {
    "collapsed": true
   },
   "outputs": [],
   "source": [
    "# Column selection\n",
    "# __getitem__ with a LIST of column names --> pd.DataFrame\n",
    "columns = ['country']  # There can be more elements in the list\n",
    "letters = df[columns]\n",
    "print_type(letters)\n",
    "letters"
   ]
  },
  {
   "cell_type": "code",
   "execution_count": null,
   "metadata": {
    "collapsed": true
   },
   "outputs": [],
   "source": [
    "# Row selection\n",
    "selector = (df['country'] == 'PL')\n",
    "print_type(selector)\n",
    "selector"
   ]
  },
  {
   "cell_type": "code",
   "execution_count": null,
   "metadata": {
    "collapsed": true
   },
   "outputs": [],
   "source": [
    "# __getitem__ with a boolean array or pd.Series\n",
    "df[selector]"
   ]
  },
  {
   "cell_type": "markdown",
   "metadata": {
    "collapsed": true
   },
   "source": [
    "## `loc[index, column(s)]`"
   ]
  },
  {
   "cell_type": "code",
   "execution_count": null,
   "metadata": {
    "collapsed": true
   },
   "outputs": [],
   "source": [
    "# \":\" - in this context, this means \"whole range\" (or: \"all elements\")\n",
    "row_1 = df.loc[1, :]\n",
    "print_type(row_1)\n",
    "row_1"
   ]
  },
  {
   "cell_type": "code",
   "execution_count": null,
   "metadata": {
    "collapsed": true
   },
   "outputs": [],
   "source": [
    "# NOTE: if the `index` is a list, the returned type is different\n",
    "row_1 = df.loc[[1], :]\n",
    "print_type(row_1)\n",
    "row_1"
   ]
  },
  {
   "cell_type": "code",
   "execution_count": null,
   "metadata": {
    "collapsed": true
   },
   "outputs": [],
   "source": [
    "df.loc[:, 'age']\n",
    "df.loc[0, 'age']\n",
    "df.loc[:, ['age']]\n",
    "df.loc[[0, 1], ['age']]\n",
    "df.loc[0:2, :]  # WATCH OUT!"
   ]
  },
  {
   "cell_type": "markdown",
   "metadata": {
    "collapsed": true
   },
   "source": [
    "## `iloc[index(es), column index(es)]`"
   ]
  },
  {
   "cell_type": "code",
   "execution_count": null,
   "metadata": {
    "collapsed": true
   },
   "outputs": [],
   "source": [
    "df.index = range(10, 14)\n",
    "df"
   ]
  },
  {
   "cell_type": "code",
   "execution_count": null,
   "metadata": {
    "collapsed": true
   },
   "outputs": [],
   "source": [
    "# This works fine ...\n",
    "df.iloc[0, :]"
   ]
  },
  {
   "cell_type": "code",
   "execution_count": null,
   "metadata": {
    "collapsed": true,
    "scrolled": true
   },
   "outputs": [],
   "source": [
    "# ... but this doesn't `0`\n",
    "df.loc[0, :]"
   ]
  },
  {
   "cell_type": "code",
   "execution_count": null,
   "metadata": {
    "collapsed": true
   },
   "outputs": [],
   "source": [
    "df.iloc[[0], :]"
   ]
  },
  {
   "cell_type": "code",
   "execution_count": null,
   "metadata": {
    "collapsed": true
   },
   "outputs": [],
   "source": [
    "df.iloc[:, 1]"
   ]
  },
  {
   "cell_type": "code",
   "execution_count": null,
   "metadata": {
    "collapsed": true
   },
   "outputs": [],
   "source": [
    "df.iloc[:, [1]]"
   ]
  },
  {
   "cell_type": "code",
   "execution_count": null,
   "metadata": {
    "collapsed": true
   },
   "outputs": [],
   "source": [
    "# Range: loc vs iloc\n",
    "print('loc')\n",
    "print(df.loc[10:12])  # INCLUDING row with index 12\n",
    "print()\n",
    "\n",
    "print('iloc')\n",
    "print(df.iloc[0:2])  # EXCLUDING row with index 12\n",
    "print()"
   ]
  },
  {
   "cell_type": "markdown",
   "metadata": {},
   "source": [
    "## One more note about row selection"
   ]
  },
  {
   "cell_type": "code",
   "execution_count": null,
   "metadata": {
    "collapsed": true
   },
   "outputs": [],
   "source": [
    "# You might use boolean selections but sometimes it's not very \"clean\"\n",
    "df[(df['country'] == 'PL') & (df['age'] == 33)]"
   ]
  },
  {
   "cell_type": "code",
   "execution_count": null,
   "metadata": {
    "collapsed": true
   },
   "outputs": [],
   "source": [
    "# Queries seem better (but...)\n",
    "df.query('country == \"PL\" and age == 33')"
   ]
  },
  {
   "cell_type": "code",
   "execution_count": null,
   "metadata": {
    "collapsed": true
   },
   "outputs": [],
   "source": [
    "# Queries with \"external\" variables\n",
    "country = 'RU'\n",
    "age = 44\n",
    "df.query('country == @country and age == @age')"
   ]
  },
  {
   "cell_type": "markdown",
   "metadata": {},
   "source": [
    "## Operations on columns containing strings"
   ]
  },
  {
   "cell_type": "code",
   "execution_count": null,
   "metadata": {
    "collapsed": true
   },
   "outputs": [],
   "source": [
    "df['email'].str.contains('@')"
   ]
  },
  {
   "cell_type": "code",
   "execution_count": null,
   "metadata": {
    "collapsed": true
   },
   "outputs": [],
   "source": [
    "# Negation\n",
    "~df['email'].str.contains('@')"
   ]
  },
  {
   "cell_type": "code",
   "execution_count": null,
   "metadata": {
    "collapsed": true
   },
   "outputs": [],
   "source": [
    "df['country'].str.replace('L', 'T')"
   ]
  },
  {
   "cell_type": "code",
   "execution_count": null,
   "metadata": {
    "collapsed": true
   },
   "outputs": [],
   "source": [
    "df['email'].str.split('@')"
   ]
  },
  {
   "cell_type": "code",
   "execution_count": null,
   "metadata": {
    "collapsed": true
   },
   "outputs": [],
   "source": [
    "df['email'].str.split('@', expand=True)"
   ]
  },
  {
   "cell_type": "code",
   "execution_count": null,
   "metadata": {
    "collapsed": true
   },
   "outputs": [],
   "source": [
    "# df['email'].str.<Tab>  -->  this won't work\n",
    "pd.Series.str."
   ]
  },
  {
   "cell_type": "code",
   "execution_count": null,
   "metadata": {
    "collapsed": true
   },
   "outputs": [],
   "source": [
    "# Metoda apply - domyślnie nie modyfikuje oryginalnej ramki\n",
    "counter = 0\n",
    "def add_values(column):\n",
    "    global counter\n",
    "    counter += 1\n",
    "    return column + column\n",
    "\n",
    "\n",
    "print('Wynik apply:')\n",
    "print(df.select_dtypes(include=[np.number]).apply(add_values))\n",
    "print()\n",
    "print('Oryginalny df:')\n",
    "df"
   ]
  },
  {
   "cell_type": "code",
   "execution_count": null,
   "metadata": {
    "collapsed": true,
    "scrolled": true
   },
   "outputs": [],
   "source": [
    "print(counter)"
   ]
  },
  {
   "cell_type": "code",
   "execution_count": null,
   "metadata": {
    "collapsed": true
   },
   "outputs": [],
   "source": [
    "df.select_dtypes(include=[np.number]) * 2"
   ]
  },
  {
   "cell_type": "code",
   "execution_count": null,
   "metadata": {
    "collapsed": true
   },
   "outputs": [],
   "source": [
    "def compare_country_and_domain(row):\n",
    "    email_parts = row['email'].split('@')\n",
    "    if not email_parts:\n",
    "        return False\n",
    "    \n",
    "    email_domain = email_parts[-1]\n",
    "    return email_domain.endswith(row['country'].lower())\n",
    "\n",
    "\n",
    "df.apply(compare_country_and_domain, axis=1)"
   ]
  },
  {
   "cell_type": "code",
   "execution_count": null,
   "metadata": {
    "collapsed": true
   },
   "outputs": [],
   "source": [
    "# `apply` on pd.Series\n",
    "countries = df['country']\n",
    "\n",
    "upper_countries = countries.apply(str.lower)\n",
    "upper_countries"
   ]
  },
  {
   "cell_type": "code",
   "execution_count": null,
   "metadata": {
    "collapsed": true
   },
   "outputs": [],
   "source": [
    "# `applymap` on pd.DataFrame\n",
    "def double_it(value):\n",
    "    return 2 * value if pd.notnull(value) else value\n",
    "\n",
    "\n",
    "ddf = df[['mixed', 'age']].applymap(double_it)\n",
    "ddf"
   ]
  },
  {
   "cell_type": "markdown",
   "metadata": {},
   "source": [
    "# SCI-KIT LEARN"
   ]
  },
  {
   "cell_type": "markdown",
   "metadata": {},
   "source": [
    "### Transformers\n",
    "\n",
    "\n",
    "```python\n",
    "class SomeTransformer(TransformerMixin):\n",
    "\n",
    "    def __init__(self, argument, another_one):\n",
    "        # Do what you have to do to create an \"instance\"\n",
    "        # of this class (a particular transformer)\n",
    "\n",
    "    def fit(self, X, y=None, **fit_params):\n",
    "        # ...\n",
    "        # look at the data and prepare to transform\n",
    "        # ...\n",
    "        return self\n",
    "        \n",
    "    def transform(self, X, y=None, **fit_params):\n",
    "        # ...\n",
    "        # modify X and/or return modified columns\n",
    "        # but either way:\n",
    "        return X_transformed\n",
    "```"
   ]
  },
  {
   "cell_type": "code",
   "execution_count": null,
   "metadata": {
    "collapsed": true,
    "scrolled": true
   },
   "outputs": [],
   "source": [
    "df"
   ]
  },
  {
   "cell_type": "code",
   "execution_count": null,
   "metadata": {
    "collapsed": true
   },
   "outputs": [],
   "source": [
    "from sklearn.base import TransformerMixin\n",
    "\n",
    "\n",
    "class EmailDomainExtractor(TransformerMixin):\n",
    "    def fit(self, X, y=None, **fit_params):\n",
    "        return self\n",
    "    \n",
    "    def transform(self, X, y=None, **fit_transform):\n",
    "        return X.applymap(self._extract_domain)\n",
    "    \n",
    "    def _extract_domain(self, email):\n",
    "        if pd.isnull(email) or not '@' in email:\n",
    "            return None\n",
    "        return email.split('@')[-1]\n",
    "\n",
    "\n",
    "trans = EmailDomainExtractor()\n",
    "trans.transform(df[['email', 'country']])"
   ]
  },
  {
   "cell_type": "code",
   "execution_count": null,
   "metadata": {
    "collapsed": true
   },
   "outputs": [],
   "source": [
    "# Wrapper on functions\n",
    "from sklearn.preprocessing import FunctionTransformer\n",
    "\n",
    "\n",
    "temp_df = pd.DataFrame({\n",
    "    'temperature': [-10, -11, 13, 24, 0]\n",
    "})\n",
    "\n",
    "transformer = FunctionTransformer(lambda x: x + 273)\n",
    "result = transformer.fit_transform(temp_df)"
   ]
  },
  {
   "cell_type": "code",
   "execution_count": null,
   "metadata": {
    "collapsed": true
   },
   "outputs": [],
   "source": [
    "# Transformer (with \"state\")\n",
    "from collections import Counter\n",
    "from sklearn.base import TransformerMixin\n",
    "\n",
    "\n",
    "class CounterTransformer(TransformerMixin):\n",
    "    def __init__(self):\n",
    "        self._counts = None\n",
    "        \n",
    "    def fit(self, X):\n",
    "        self._counts = X.value_counts()\n",
    "        return self\n",
    "    \n",
    "    def transform(self, X):\n",
    "        # Doesn't support new levels!\n",
    "        return X.apply(lambda v: self._counts[v])"
   ]
  },
  {
   "cell_type": "code",
   "execution_count": null,
   "metadata": {
    "collapsed": true
   },
   "outputs": [],
   "source": [
    "print('Train:')\n",
    "df_train = pd.DataFrame({\n",
    "    'animal': 'cat dog racoon cat cat'.split(),\n",
    "})\n",
    "print(df_train)\n",
    "print()\n",
    "\n",
    "transformer = CounterTransformer()\n",
    "# `fit_transform` is defined in TransformerMixin\n",
    "result = transformer.fit_transform(df_train['animal'])\n",
    "print(result)\n",
    "print()\n",
    "\n",
    "\n",
    "print('Test:')\n",
    "df_test = pd.DataFrame({\n",
    "    'animal': 'cat dog'.split(),\n",
    "})\n",
    "print(df_test)\n",
    "print()\n",
    "\n",
    "result = transformer.transform(df_test['animal'])\n",
    "print(result)"
   ]
  },
  {
   "cell_type": "code",
   "execution_count": null,
   "metadata": {
    "collapsed": true
   },
   "outputs": [],
   "source": [
    "class DFCounterTransformer(TransformerMixin):\n",
    "    def __init__(self):\n",
    "        self._transformers = {}\n",
    "    \n",
    "    def fit(self, X):\n",
    "        self._transformers = {\n",
    "            col: CounterTransformer().fit(X[col])\n",
    "            for col in X.columns\n",
    "        }\n",
    "        return self\n",
    "    \n",
    "    def transform(self, X):\n",
    "        return pd.concat([\n",
    "            self._transformers[col].transform(X[col]) for col in X.columns\n",
    "        ], axis=1)\n",
    "\n",
    "\n",
    "print('Train:')\n",
    "df_train = pd.DataFrame({\n",
    "    'animal': 'cat dog racoon cat'.split(),\n",
    "    'number': [1, 1, 1, 2],\n",
    "})\n",
    "print(df_train)\n",
    "print()\n",
    "\n",
    "transformer = DFCounterTransformer()\n",
    "result = transformer.fit_transform(df_train)\n",
    "print(result)\n",
    "\n",
    "\n",
    "print('Test:')\n",
    "df_test = pd.DataFrame({\n",
    "    'animal': 'cat dog'.split(),\n",
    "    'number': [1, 2],\n",
    "})\n",
    "print(df_test)\n",
    "print()\n",
    "\n",
    "result = transformer.transform(df_test)\n",
    "result"
   ]
  },
  {
   "cell_type": "markdown",
   "metadata": {},
   "source": [
    "# Pipeline"
   ]
  },
  {
   "cell_type": "code",
   "execution_count": null,
   "metadata": {
    "collapsed": true
   },
   "outputs": [],
   "source": [
    "from sklearn.preprocessing import FunctionTransformer, OneHotEncoder\n",
    "\n",
    "\n",
    "def fill_na(v):\n",
    "    return 0 if pd.isnull(v) else v\n",
    "\n",
    "\n",
    "fill_na_trans = FunctionTransformer(\n",
    "    lambda df: df.applymap(fill_na),\n",
    "    validate=False\n",
    ")\n",
    "ohe_trans = OneHotEncoder(handle_unknown='ignore')\n",
    "\n",
    "\n",
    "print('Train:')\n",
    "df_train = pd.DataFrame({\n",
    "    'animal': [1, 2, 3, 1, None]\n",
    "})\n",
    "print(df_train)\n",
    "print()\n",
    "\n",
    "\n",
    "x = fill_na_trans.fit_transform(df_train)\n",
    "ohe_trans.fit_transform(x)\n",
    "\n",
    "\n",
    "print('Test:')\n",
    "df_test = pd.DataFrame({\n",
    "    'animal': [1, 4, None]\n",
    "})\n",
    "print(df_test)\n",
    "print()\n",
    "\n",
    "\n",
    "x = fill_na_trans.transform(df_test)\n",
    "x = ohe_trans.transform(x)\n",
    "print(type(x))\n",
    "\n",
    "x.toarray()"
   ]
  },
  {
   "cell_type": "code",
   "execution_count": null,
   "metadata": {
    "collapsed": true
   },
   "outputs": [],
   "source": [
    "from sklearn.pipeline import Pipeline\n",
    "from sklearn.preprocessing import FunctionTransformer, OneHotEncoder\n",
    "\n",
    "\n",
    "def fill_na(v):\n",
    "    return 0 if pd.isnull(v) else v\n",
    "\n",
    "\n",
    "pipeline = Pipeline([\n",
    "    ('FillNA', FunctionTransformer(lambda df: df.applymap(fill_na), validate=False)),\n",
    "    ('OHE', OneHotEncoder(handle_unknown='ignore')),\n",
    "])\n",
    "\n",
    "\n",
    "df_train = pd.DataFrame({\n",
    "    'animal': [1, 2, 3, 1, None]\n",
    "})\n",
    "pipeline.fit(df_train)\n",
    "\n",
    "\n",
    "df_test = pd.DataFrame({\n",
    "    'animal': [1, 4, None]\n",
    "})\n",
    "pipeline.transform(df_test).toarray()"
   ]
  },
  {
   "cell_type": "code",
   "execution_count": null,
   "metadata": {
    "collapsed": true
   },
   "outputs": [],
   "source": [
    "df = pd.DataFrame({\n",
    "    'animal': 'cat dog frog'.split(),\n",
    "    'level': [-10, np.NaN, 13],\n",
    "    'user_domain': ['www.google.pl', 'www.www2.wp.com.pl', None],\n",
    "    'server_domain': ['www.google.pl', 'www.www2.wp.com.pl', None],\n",
    "})\n",
    "\n",
    "df"
   ]
  },
  {
   "cell_type": "code",
   "execution_count": null,
   "metadata": {
    "collapsed": true
   },
   "outputs": [],
   "source": [
    "numeric_pipeline = Pipeline([\n",
    "    ('SelectNumeric', FunctionTransformer(lambda df: df.select_dtypes(include=[np.number]), validate=False)),\n",
    "    ('FillNA', FunctionTransformer(lambda df: df.fillna(0), validate=False)),\n",
    "    ('Abs', FunctionTransformer(lambda df: df.applymap(abs), validate=False)),\n",
    "])\n",
    "\n",
    "numeric_pipeline.fit_transform(df)"
   ]
  }
 ],
 "metadata": {
  "kernelspec": {
   "display_name": "Python 2",
   "language": "python",
   "name": "python2"
  },
  "language_info": {
   "codemirror_mode": {
    "name": "ipython",
    "version": 2
   },
   "file_extension": ".py",
   "mimetype": "text/x-python",
   "name": "python",
   "nbconvert_exporter": "python",
   "pygments_lexer": "ipython2",
   "version": "2.7.12"
  }
 },
 "nbformat": 4,
 "nbformat_minor": 2
}
